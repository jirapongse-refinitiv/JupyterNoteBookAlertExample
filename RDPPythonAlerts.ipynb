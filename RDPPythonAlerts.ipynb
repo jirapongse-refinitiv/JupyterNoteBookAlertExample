{
 "cells": [
  {
   "cell_type": "markdown",
   "metadata": {},
   "source": [
    "# Import libraries and define global variables"
   ]
  },
  {
   "cell_type": "code",
   "execution_count": null,
   "metadata": {},
   "outputs": [],
   "source": [
    "import requests\n",
    "import json\n",
    "import boto3\n",
    "import base64\n",
    "from Crypto.Cipher import AES #pip install pycryptodome\n",
    "\n",
    "REGION = 'us-east-1'\n",
    "\n",
    "#Alerts variables\n",
    "endpoint = \"\"\n",
    "cryptographyKey = \"\"\n",
    "subscriptionID = \"\"\n",
    "\n",
    "#cloud variables\n",
    "accessKeyId = \"\"\n",
    "secretKey = \"\"\n",
    "sessionToken = \"\"\n",
    "cloudEndPoint = \"\"\n"
   ]
  },
  {
   "cell_type": "markdown",
   "metadata": {},
   "source": [
    "# 1. Get an access token"
   ]
  },
  {
   "cell_type": "markdown",
   "metadata": {},
   "source": [
    "## 1.1 V1 Authentication (Username, Password, and ApplicationKey)"
   ]
  },
  {
   "cell_type": "code",
   "execution_count": null,
   "metadata": {},
   "outputs": [],
   "source": [
    "username = \"<username>\"\n",
    "password = \"<password>\"\n",
    "application_key = \"<appkey>\"\n",
    "\n",
    "url = \"https://api.refinitiv.com/auth/oauth2/v1/token\"\n",
    "\n",
    "payload = 'username='+username+'&password='+password+'&grant_type=password&scope=trapi&takeExclusiveSignOnControl=true&client_id='+application_key\n",
    "headers = {\n",
    "  'Content-Type': 'application/x-www-form-urlencoded'\n",
    "}\n",
    "\n",
    "response = requests.request(\"POST\", url, headers=headers, data=payload)\n",
    "\n",
    "print(response.text)\n",
    "json_obj = json.loads(response.text)\n",
    "if \"access_token\" in json_obj:\n",
    "    access_token = json_obj[\"access_token\"]\n",
    "else:\n",
    "    access_token = \"\"\n",
    "    print(\"Error: No Access Token\")\n",
    "    \n",
    "print(access_token)"
   ]
  },
  {
   "cell_type": "markdown",
   "metadata": {},
   "source": [
    "## 1.2 V2 Authentication (Client ID and Client Secret)"
   ]
  },
  {
   "cell_type": "code",
   "execution_count": null,
   "metadata": {},
   "outputs": [],
   "source": [
    "client_id = \"<client_id>\"\n",
    "client_secret = \"<client_secret>\"\n",
    "\n",
    "url = \"https://api.refinitiv.com/auth/oauth2/v2/token\"\n",
    "\n",
    "payload = 'grant_type=client_credentials&client_id='+client_id+'&client_secret='+client_secret+'&scope=trapi'\n",
    "headers = {\n",
    "  'Content-Type': 'application/x-www-form-urlencoded'\n",
    "}\n",
    "\n",
    "response = requests.request(\"POST\", url, headers=headers, data=payload)\n",
    "\n",
    "print(response.text)\n",
    "json_obj = json.loads(response.text)\n",
    "if \"access_token\" in json_obj:\n",
    "    access_token = json_obj[\"access_token\"]\n",
    "else:\n",
    "    access_token = \"\"\n",
    "    print(\"Error: No Access Token\")\n",
    "    \n",
    "print(access_token)"
   ]
  },
  {
   "cell_type": "markdown",
   "metadata": {},
   "source": [
    "# 2. News Subscription"
   ]
  },
  {
   "cell_type": "markdown",
   "metadata": {},
   "source": [
    "## 2.1 News Headlines Subscription"
   ]
  },
  {
   "cell_type": "code",
   "execution_count": null,
   "metadata": {},
   "outputs": [],
   "source": [
    "\n",
    "\n",
    "url = \"https://api.refinitiv.com/alerts/v1/news-headlines-subscriptions\"\n",
    "\n",
    "# request = {\n",
    "#   \"transport\": {\n",
    "#     \"transportType\": \"AWS-SQS\"\n",
    "#  }\n",
    "# }\n",
    "\n",
    "request = {\n",
    " \"transport\": {\n",
    "   \"transportType\": \"AWS-SQS\"\n",
    " },\n",
    " \"filter\": {\n",
    "   \"type\": \"operator\",\n",
    "   \"operator\": \"and\",\n",
    "   \"operands\": [\n",
    "     {\n",
    "       \"type\": \"freetext\",\n",
    "       \"match\": \"contains\",\n",
    "       \"value\": \"TOP NEWS\",\n",
    "       \"flags\": [\n",
    "         \"headline\"\n",
    "       ]\n",
    "     },\n",
    "     {\n",
    "       \"type\": \"language\",\n",
    "       \"value\": \"L:en\"\n",
    "     }\n",
    "   ]\n",
    " },\n",
    " \"payloadVersion\": \"2.0\"\n",
    "}\n",
    "  \n",
    "    \n",
    "payload = json.dumps(request)\n",
    "headers = {\n",
    "  'Content-Type': 'application/json',\n",
    "  'Authorization': 'Bearer '+access_token\n",
    "}\n",
    "\n",
    "response = requests.request(\"POST\", url, headers=headers, data=payload)\n",
    "\n",
    "print(response.text)\n",
    "json_obj = json.loads(response.text)\n",
    "\n",
    "endpoint = json_obj[\"transportInfo\"][\"endpoint\"]\n",
    "cryptographyKey = json_obj[\"transportInfo\"][\"cryptographyKey\"]\n",
    "subscriptionID = json_obj[\"subscriptionID\"]\n",
    "\n",
    "print(\"\\nEndpoint: \"+endpoint)\n",
    "print(\"cryptographyKey: \"+cryptographyKey)\n",
    "print(\"subscriptionID: \"+subscriptionID)\n"
   ]
  },
  {
   "cell_type": "markdown",
   "metadata": {},
   "source": [
    "## 2.2 News Stories Subscription\n"
   ]
  },
  {
   "cell_type": "code",
   "execution_count": null,
   "metadata": {},
   "outputs": [],
   "source": [
    "url = \"https://api.refinitiv.com/alerts/v1/news-stories-subscriptions\"\n",
    "\n",
    "# request = {\n",
    "#   \"transport\": {\n",
    "#     \"transportType\": \"AWS-SQS\"\n",
    "#  }\n",
    "# }\n",
    "\n",
    "# request = {\n",
    "#   \"transport\": {\n",
    "#     \"transportType\": \"AWS-SQS\"\n",
    "#   },\n",
    "#   \"filter\": {\n",
    "#     \"type\": \"operator\",\n",
    "#     \"operator\": \"and\",\n",
    "#     \"operands\": [\n",
    "#       {\n",
    "#         \"type\": \"freetext\",\n",
    "#         \"match\": \"contains\",\n",
    "#         \"value\": \"TOP NEWS\",\n",
    "#         \"flags\": [\n",
    "#           \"headline\"\n",
    "#         ]\n",
    "#       },\n",
    "#       {\n",
    "#         \"type\": \"language\",\n",
    "#         \"value\": \"L:en\"\n",
    "#       }\n",
    "#     ]\n",
    "#   },\n",
    "#   \"payloadVersion\": \"2.0\"\n",
    "# }\n",
    "\n",
    "request = {\n",
    "    \"transport\":{\n",
    "        \"transportType\":\"AWS-SQS\"\n",
    "    },\n",
    "    \"filter\":{\n",
    "        \"value\":\"R:EUR=\",\n",
    "        \"type\":\"newscode\"\n",
    "    },\n",
    "    \"payloadVersion\": \"2.0\"\n",
    "}\n",
    "\n",
    "payload = json.dumps(request)\n",
    "headers = {\n",
    "  'Content-Type': 'application/json',\n",
    "  'Authorization': 'Bearer '+access_token\n",
    "}\n",
    "response = requests.request(\"POST\", url, headers=headers, data=payload)\n",
    "\n",
    "print(response.text)\n",
    "json_obj = json.loads(response.text)\n",
    "\n",
    "endpoint = json_obj[\"transportInfo\"][\"endpoint\"]\n",
    "cryptographyKey = json_obj[\"transportInfo\"][\"cryptographyKey\"]\n",
    "subscriptionID = json_obj[\"subscriptionID\"]\n",
    "\n",
    "print(\"\\nEndpoint: \"+endpoint)\n",
    "print(\"cryptographyKey: \"+cryptographyKey)\n",
    "print(\"subscriptionID: \"+subscriptionID)\n"
   ]
  },
  {
   "cell_type": "markdown",
   "metadata": {},
   "source": [
    "# 3. Get Cloud Credentials"
   ]
  },
  {
   "cell_type": "code",
   "execution_count": null,
   "metadata": {},
   "outputs": [],
   "source": [
    "\n",
    "url = \"https://api.refinitiv.com/auth/cloud-credentials/v1/?endpoint=\"+endpoint\n",
    "\n",
    "payload = {}\n",
    "headers = {\n",
    "  'Content-Type': 'application/json',\n",
    "  'Authorization': 'Bearer '+access_token\n",
    "}\n",
    "\n",
    "response = requests.request(\"GET\", url, headers=headers, data=payload)\n",
    "\n",
    "print(response.text)\n",
    "\n",
    "json_obj = json.loads(response.text)\n",
    "\n",
    "accessKeyId = json_obj[\"credentials\"][\"accessKeyId\"]\n",
    "secretKey = json_obj[\"credentials\"][\"secretKey\"]\n",
    "sessionToken = json_obj[\"credentials\"][\"sessionToken\"]\n",
    "cloudEndPoint = json_obj[\"endpoint\"]\n",
    "\n",
    "print(\"\\naccessKeyId: \"+accessKeyId)\n",
    "print(\"secretKey: \"+secretKey)\n",
    "print(\"sessionToken: \"+sessionToken)\n",
    "print(\"cloudEndPoint: \"+cloudEndPoint)\n",
    "\n"
   ]
  },
  {
   "cell_type": "markdown",
   "metadata": {},
   "source": [
    "# 4. Retrieve and decrypt messages"
   ]
  },
  {
   "cell_type": "code",
   "execution_count": null,
   "metadata": {},
   "outputs": [],
   "source": [
    "\n",
    "#==============================================\n",
    "def decrypt(key, source):\n",
    "#==============================================\n",
    "    GCM_AAD_LENGTH = 16\n",
    "    GCM_TAG_LENGTH = 16\n",
    "    GCM_NONCE_LENGTH = 12\n",
    "    key = base64.b64decode(key)\n",
    "    cipherText = base64.b64decode(source)\n",
    "    aad = cipherText[:GCM_AAD_LENGTH]\n",
    "    nonce = aad[-GCM_NONCE_LENGTH:] \n",
    "    tag = cipherText[-GCM_TAG_LENGTH:]\n",
    "    encMessage = cipherText[GCM_AAD_LENGTH:-GCM_TAG_LENGTH]\n",
    "\n",
    "    cipher = AES.new(key, AES.MODE_GCM, nonce=nonce)\n",
    "    cipher.update(aad)\n",
    "    decMessage = cipher.decrypt_and_verify(encMessage, tag)\n",
    "    return decMessage\n",
    "\n",
    "\n"
   ]
  },
  {
   "cell_type": "code",
   "execution_count": null,
   "metadata": {},
   "outputs": [],
   "source": [
    "message_count = 0\n",
    "max_message_count = 20\n",
    "\n",
    "session = boto3.Session(\n",
    "    aws_access_key_id = accessKeyId,\n",
    "    aws_secret_access_key = secretKey,\n",
    "    aws_session_token = sessionToken,\n",
    "    region_name = REGION\n",
    ")\n",
    "\n",
    "sqs = session.client('sqs')\n",
    "\n",
    "print('Polling messages from queue...')\n",
    "while 1: \n",
    "    if message_count >= max_message_count:\n",
    "        print(\"### Max count reached ###\")\n",
    "        break\n",
    "    resp = sqs.receive_message(QueueUrl = endpoint, WaitTimeSeconds = 10)    \n",
    "    if 'Messages' in resp:\n",
    "        messages = resp['Messages']\n",
    "    else:\n",
    "        print(\"No message\")\n",
    "        messages = []\n",
    "        # print and remove all the nested messages\n",
    "    for message in messages:\n",
    "        message_count = message_count + 1\n",
    "        mBody = message['Body']\n",
    "        # decrypt this message\n",
    "        m = decrypt(cryptographyKey, mBody)\n",
    "        pl = json.loads(m)\n",
    "        print(json.dumps(pl, indent=2))        \n",
    "        sqs.delete_message(QueueUrl = endpoint, ReceiptHandle = message['ReceiptHandle'])"
   ]
  },
  {
   "cell_type": "markdown",
   "metadata": {},
   "source": [
    "# 5. Delete a Subscription"
   ]
  },
  {
   "cell_type": "code",
   "execution_count": null,
   "metadata": {},
   "outputs": [],
   "source": [
    "\n",
    "\n",
    "url = \"https://api.refinitiv.com/alerts/v1/news-stories-subscriptions?subscriptionID=\"+subscriptionID\n",
    "\n",
    "payload = {}\n",
    "headers = {\n",
    "  'Content-Type': 'application/json',\n",
    "  'Authorization': 'Bearer '+access_token\n",
    "}\n",
    "\n",
    "response = requests.request(\"DELETE\", url, headers=headers, data=payload)\n",
    "\n",
    "print(response)\n"
   ]
  },
  {
   "cell_type": "code",
   "execution_count": null,
   "metadata": {},
   "outputs": [],
   "source": []
  }
 ],
 "metadata": {
  "kernelspec": {
   "display_name": "Python 3",
   "language": "python",
   "name": "python3"
  },
  "language_info": {
   "codemirror_mode": {
    "name": "ipython",
    "version": 3
   },
   "file_extension": ".py",
   "mimetype": "text/x-python",
   "name": "python",
   "nbconvert_exporter": "python",
   "pygments_lexer": "ipython3",
   "version": "3.7.9"
  }
 },
 "nbformat": 4,
 "nbformat_minor": 4
}
